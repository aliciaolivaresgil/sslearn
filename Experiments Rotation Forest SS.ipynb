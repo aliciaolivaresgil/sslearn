{
    "cells": [
        {
            "cell_type": "code",
            "execution_count": 5,
            "source": [
                "import numpy as np\n",
                "import pandas as pd\n",
                "import matplotlib.pyplot as plt\n",
                "%matplotlib inline\n",
                "import baycomp_plotting as bplt\n",
                "import baycomp as bc\n",
                "\n",
                "\n",
                "from sslearn.wrapper import SelfTraining, Rasco, RelRasco, RotRelRasco\n",
                "from sslearn.supervised.rotation import RotationForestClassifier, RotatedTree\n",
                "from sslearn.model_selection import StratifiedKFoldSS\n",
                "from sklearn.model_selection import train_test_split\n",
                "from sklearn.tree import DecisionTreeClassifier\n",
                "import warnings\n",
                "warnings.filterwarnings(\"ignore\")\n",
                "\n",
                "import os\n"
            ],
            "outputs": [],
            "metadata": {}
        },
        {
            "cell_type": "code",
            "execution_count": 2,
            "source": [
                "path = \"/home/jlgarridol/Dropbox/UBU/Research/SSRotation/csv\"\n",
                "\n",
                "seed = 100\n",
                "\n",
                "classifiers = {\n",
                "    \"Rot-Rel-Rasco\": RotRelRasco(base_estimator=DecisionTreeClassifier(random_state=seed), n_estimators=10, random_state=seed, incremental=False),\n",
                "    \"Rel-Rasco\": RelRasco(base_estimator=DecisionTreeClassifier(random_state=seed), n_estimators=10, random_state=seed, incremental=False),\n",
                "    \"Rasco\": Rasco(base_estimator=DecisionTreeClassifier(random_state=seed), n_estimators=10, random_state=seed, incremental=False),\n",
                "    \"SelfTraining\": SelfTraining(base_estimator=RotationForestClassifier(base_estimator=DecisionTreeClassifier(random_state=10), n_estimators=10, random_state=seed), max_iter=40)\n",
                "}\n",
                "\n",
                "\n",
                "acc_trans = {\n",
                "    \"Rot-Rel-Rasco\": [],\n",
                "    \"Rel-Rasco\": [],\n",
                "    \"Rasco\": [],\n",
                "    \"SelfTraining\": []\n",
                "}\n",
                "\n",
                "acc_ind = {\n",
                "    \"Rot-Rel-Rasco\": [],\n",
                "    \"Rel-Rasco\": [],\n",
                "    \"Rasco\": [],\n",
                "    \"SelfTraining\": []\n",
                "}\n"
            ],
            "outputs": [],
            "metadata": {}
        },
        {
            "cell_type": "code",
            "execution_count": 28,
            "source": [
                "datasets = {}\n",
                "for file in os.listdir(path):\n",
                "    dataset = pd.read_csv(os.path.join(path,file), header=None)\n",
                "\n",
                "    columns = []\n",
                "    for i, tp in enumerate(dataset.dtypes):\n",
                "        if not np.issubdtype(tp, np.number) and i != dataset.shape[1]-1:\n",
                "            columns.append(i)\n",
                "            dataset[i] = dataset[i].astype(\"|S\")\n",
                "    \n",
                "    y = dataset.iloc[:,-1]\n",
                "    if np.issubdtype(y, np.number):\n",
                "        y = y+2 \n",
                "    X = dataset.iloc[:,:-1]\n",
                "    if len(columns) > 0:\n",
                "        elements = [X[X.columns.difference(columns)]]\n",
                "\n",
                "        for col in columns:\n",
                "            elements.append(pd.get_dummies(X[col]))\n",
                "        \n",
                "        concatenated_data = pd.concat(elements, axis=1)\n",
                "        X = concatenated_data\n",
                "\n",
                "    \n",
                "    \n",
                "    datasets[file.split(\".\")[0]] = (X.to_numpy(), y.to_numpy())"
            ],
            "outputs": [],
            "metadata": {}
        },
        {
            "cell_type": "code",
            "execution_count": 45,
            "source": [
                "skf = StratifiedKFoldSS(n_splits=10, random_state=seed, shuffle=True)\n",
                "\n",
                "for d in datasets:\n",
                "    X, y = datasets[d]\n",
                "    X_train, X_test, y_train, y_test = train_test_split(X, y, train_size=float(3/4), random_state=seed)\n",
                "    print(d)\n",
                "    for learner in classifiers:\n",
                "        print(\"\\t\",learner)\n",
                "        st = classifiers[learner]\n",
                "        scores = []\n",
                "        scores_ind = []\n",
                "        for X_, y_, _, unlabel in skf.split(X_train,y_train):\n",
                "            st.fit(X_,y_)\n",
                "            scores.append(st.score(X_train[unlabel], y_train[unlabel]))\n",
                "            scores_ind.append(st.score(X_test, y_test))\n",
                "        acc_trans[learner].append(np.mean(scores))\n",
                "        acc_ind[learner].append(np.mean(scores_ind))"
            ],
            "outputs": [
                {
                    "output_type": "stream",
                    "name": "stdout",
                    "text": [
                        "vowel\n",
                        "\t Rot-Rel-Rasco\n",
                        "\t Rel-Rasco\n"
                    ]
                }
            ],
            "metadata": {}
        },
        {
            "cell_type": "code",
            "execution_count": null,
            "source": [],
            "outputs": [],
            "metadata": {}
        }
    ],
    "metadata": {
        "orig_nbformat": 4,
        "language_info": {
            "name": "python",
            "version": "3.7.10",
            "mimetype": "text/x-python",
            "codemirror_mode": {
                "name": "ipython",
                "version": 3
            },
            "pygments_lexer": "ipython3",
            "nbconvert_exporter": "python",
            "file_extension": ".py"
        },
        "kernelspec": {
            "name": "python3",
            "display_name": "Python 3.7.10 64-bit ('PhD': conda)"
        },
        "interpreter": {
            "hash": "c3f32fb4925d4fae5d5e4e56b23fe32302fe0d8192911c78c1591566a98d5056"
        }
    },
    "nbformat": 4,
    "nbformat_minor": 2
}