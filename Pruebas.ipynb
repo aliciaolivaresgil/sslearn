{
 "cells": [
  {
   "cell_type": "code",
   "execution_count": 1,
   "metadata": {},
   "outputs": [],
   "source": [
    "%matplotlib inline\n",
    "import pandas as pd\n",
    "import numpy as np\n",
    "import sslearn\n",
    "from sslearn import model_selection, wrapper\n",
    "from sklearn.tree import DecisionTreeClassifier\n",
    "from sklearn.ensemble import RandomForestClassifier\n",
    "from sklearn.model_selection import train_test_split"
   ]
  },
  {
   "cell_type": "code",
   "execution_count": 2,
   "metadata": {},
   "outputs": [],
   "source": [
    "import sklearn.datasets as data"
   ]
  },
  {
   "cell_type": "code",
   "execution_count": 21,
   "metadata": {},
   "outputs": [],
   "source": [
    "X, y = data.load_iris(return_X_y=True)"
   ]
  },
  {
   "cell_type": "code",
   "execution_count": 22,
   "metadata": {},
   "outputs": [],
   "source": [
    "X_train, X_test, y_train, y_test = train_test_split(X, y, train_size=float(1/3), random_state=0)"
   ]
  },
  {
   "cell_type": "code",
   "execution_count": 23,
   "metadata": {},
   "outputs": [
    {
     "output_type": "execute_result",
     "data": {
      "text/plain": [
       "(50, 4)"
      ]
     },
     "metadata": {},
     "execution_count": 23
    }
   ],
   "source": [
    "X_train.shape"
   ]
  },
  {
   "cell_type": "code",
   "execution_count": 16,
   "metadata": {},
   "outputs": [
    {
     "output_type": "execute_result",
     "data": {
      "text/plain": [
       "array([161., 265.,  60., 200., 265., 272., 146.,  94.,  55.,  69., 138.,\n",
       "       258., 143., 172.,  89.,  69., 199.,  55.,  45., 265.,  91., 170.,\n",
       "        55., 202., 155.,  77.,  77.,  71., 123.,  84., 252.,  52.,  40.,\n",
       "       274., 143., 245.,  92., 151.,  39., 235.,  92., 253.,  94.,  81.,\n",
       "       346.,  90., 181., 162., 277., 152., 178., 124.,  75., 263., 202.,\n",
       "       200., 108.,  96.,  60.,  72., 107.,  54., 158., 152., 220., 308.,\n",
       "       249., 222.,  65., 173.,  88.,  72., 164.,  52., 115., 200.,  90.,\n",
       "       248.,  37., 230.,  63., 273.,  61.,  53., 189., 241., 118., 252.,\n",
       "       104., 219., 115., 332., 131., 185.,  63., 131.,  88., 187., 196.,\n",
       "        59., 341., 109., 101., 113.,  80., 242., 168., 128., 233., 209.,\n",
       "       225.,  83., 214.,  96., 129.,  47., 229., 293.,  74., 202., 164.,\n",
       "       202.,  59.,  91., 120., 151., 310.,  90., 116., 147.,  43.,  42.,\n",
       "        48., 134.,  84.,  71.,  64.,  70., 310., 311., 122., 243., 248.,\n",
       "        91., 281., 142., 295.])"
      ]
     },
     "metadata": {},
     "execution_count": 16
    }
   ],
   "source": [
    "y_train"
   ]
  },
  {
   "cell_type": "markdown",
   "metadata": {},
   "source": [
    "Prueba de Validación cruzada"
   ]
  },
  {
   "cell_type": "code",
   "execution_count": 25,
   "metadata": {
    "scrolled": false
   },
   "outputs": [
    {
     "output_type": "stream",
     "name": "stdout",
     "text": [
      "Precisión transductiva: 0.8666666666666666\nPrecisión inductiva: 0.7929999999999999\n"
     ]
    }
   ],
   "source": [
    "skf = model_selection.StratifiedKFoldSS(n_splits=10, random_state=0, shuffle=True)\n",
    "scores = []\n",
    "scores_ind = []\n",
    "for X_, y_, _, unlabel in skf.split(X_train,y_train):\n",
    "    st = wrapper.CoForest(n_estimators=7, confidence=0.75)\n",
    "    st.fit(X_,y_)\n",
    "    scores.append(st.score(X_train[unlabel], y_train[unlabel]))\n",
    "    scores_ind.append(st.score(X_test, y_test))\n",
    "print(\"Precisión transductiva:\",np.mean(scores))\n",
    "print(\"Precisión inductiva:\",np.mean(scores_ind))"
   ]
  },
  {
   "cell_type": "markdown",
   "metadata": {},
   "source": [
    "Prueba creando un dataset artificial a partir de otro"
   ]
  },
  {
   "cell_type": "code",
   "execution_count": 26,
   "metadata": {},
   "outputs": [
    {
     "output_type": "stream",
     "name": "stdout",
     "text": [
      "Precisión transductiva: 0.8222222222222222\nPrecisión inductiva: 0.84\n"
     ]
    }
   ],
   "source": [
    "X_, y_, true_label = model_selection.artificial_ssl_dataset(X_train, y_train, label_rate=0.10, random_state=0)\n",
    "st = wrapper.CoForest(n_estimators=7, confidence=0.75)\n",
    "score = st.fit(X_,y_).score(X_[y_ == -1], true_label)\n",
    "score_ind = st.score(X_test, y_test)\n",
    "print(\"Precisión transductiva:\",score)\n",
    "print(\"Precisión inductiva:\",score_ind)"
   ]
  },
  {
   "cell_type": "code",
   "execution_count": 8,
   "metadata": {},
   "outputs": [
    {
     "output_type": "execute_result",
     "data": {
      "text/plain": [
       "((180, 30), (180,))"
      ]
     },
     "metadata": {},
     "execution_count": 8
    }
   ],
   "source": [
    "X_, y_, true_label = model_selection.artificial_ssl_dataset(X_train, y_train, label_rate=0.05, random_state=0)\n",
    "X_[y_==-1].shape, true_label.shape"
   ]
  },
  {
   "cell_type": "code",
   "execution_count": 9,
   "metadata": {},
   "outputs": [
    {
     "output_type": "execute_result",
     "data": {
      "text/plain": [
       "<sslearn.wrapper._co.CoTraining at 0x7fd2155e5990>"
      ]
     },
     "metadata": {},
     "execution_count": 9
    }
   ],
   "source": [
    "st.fit(X_,y_)\n",
    "#.score(X_[y_ == -1], true_label)"
   ]
  },
  {
   "cell_type": "code",
   "execution_count": 10,
   "metadata": {},
   "outputs": [
    {
     "output_type": "error",
     "ename": "AttributeError",
     "evalue": "'CoTraining' object has no attribute 'batch_size'",
     "traceback": [
      "\u001b[0;31m---------------------------------------------------------------------------\u001b[0m",
      "\u001b[0;31mAttributeError\u001b[0m                            Traceback (most recent call last)",
      "\u001b[0;32m<ipython-input-10-66ddad989c0d>\u001b[0m in \u001b[0;36m<module>\u001b[0;34m\u001b[0m\n\u001b[0;32m----> 1\u001b[0;31m \u001b[0mst\u001b[0m\u001b[0;34m.\u001b[0m\u001b[0mbatch_size\u001b[0m\u001b[0;34m\u001b[0m\u001b[0;34m\u001b[0m\u001b[0m\n\u001b[0m",
      "\u001b[0;31mAttributeError\u001b[0m: 'CoTraining' object has no attribute 'batch_size'"
     ]
    }
   ],
   "source": [
    "st.batch_size"
   ]
  },
  {
   "cell_type": "code",
   "execution_count": null,
   "metadata": {},
   "outputs": [],
   "source": []
  }
 ],
 "metadata": {
  "kernelspec": {
   "display_name": "Python 3.7 (Doctorado)",
   "language": "python",
   "name": "phd"
  },
  "language_info": {
   "codemirror_mode": {
    "name": "ipython",
    "version": 3
   },
   "file_extension": ".py",
   "mimetype": "text/x-python",
   "name": "python",
   "nbconvert_exporter": "python",
   "pygments_lexer": "ipython3",
   "version": "3.7.9-final"
  }
 },
 "nbformat": 4,
 "nbformat_minor": 4
}