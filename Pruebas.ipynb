{
 "cells": [
  {
   "cell_type": "code",
   "execution_count": 1,
   "metadata": {},
   "outputs": [],
   "source": [
    "%matplotlib inline\n",
    "import pandas as pd\n",
    "import numpy as np\n",
    "import sslearn\n",
    "from sslearn import model_selection, wrapper\n",
    "from sklearn.tree import DecisionTreeClassifier\n",
    "from sklearn.ensemble import RandomForestClassifier\n",
    "from sklearn.model_selection import train_test_split"
   ]
  },
  {
   "cell_type": "code",
   "execution_count": 2,
   "metadata": {},
   "outputs": [],
   "source": [
    "import sklearn.datasets as data"
   ]
  },
  {
   "cell_type": "code",
   "execution_count": 3,
   "metadata": {},
   "outputs": [],
   "source": [
    "X, y = data.load_iris(return_X_y=True)"
   ]
  },
  {
   "cell_type": "code",
   "execution_count": 4,
   "metadata": {},
   "outputs": [],
   "source": [
    "X_train, X_test, y_train, y_test = train_test_split(X, y, train_size=float(1/3), random_state=0)"
   ]
  },
  {
   "cell_type": "code",
   "execution_count": 5,
   "metadata": {},
   "outputs": [
    {
     "output_type": "execute_result",
     "data": {
      "text/plain": [
       "(50, 4)"
      ]
     },
     "metadata": {},
     "execution_count": 5
    }
   ],
   "source": [
    "X_train.shape"
   ]
  },
  {
   "cell_type": "code",
   "execution_count": 6,
   "metadata": {},
   "outputs": [
    {
     "output_type": "execute_result",
     "data": {
      "text/plain": [
       "array([0, 0, 1, 2, 2, 0, 0, 0, 1, 1, 0, 0, 1, 0, 2, 1, 2, 1, 0, 2, 0, 2,\n",
       "       0, 0, 2, 0, 2, 1, 1, 1, 2, 2, 1, 1, 0, 1, 2, 2, 0, 1, 1, 1, 1, 0,\n",
       "       0, 0, 2, 1, 2, 0])"
      ]
     },
     "metadata": {},
     "execution_count": 6
    }
   ],
   "source": [
    "y_train"
   ]
  },
  {
   "cell_type": "markdown",
   "metadata": {},
   "source": [
    "Prueba de Validación cruzada"
   ]
  },
  {
   "cell_type": "code",
   "execution_count": 7,
   "metadata": {
    "scrolled": false
   },
   "outputs": [
    {
     "output_type": "stream",
     "name": "stdout",
     "text": [
      "0.5 * 5.0 / 1e-05 = 249999.99999999997\n0.5 * 5.0 / 1e-05 = 249999.99999999997\n0.5 * 5.0 / 1e-05 = 249999.99999999997\n0.5 * 5.0 / 1e-05 = 249999.99999999997\n0.5 * 5.0 / 1e-05 = 249999.99999999997\n0.5 * 5.0 / 1e-05 = 249999.99999999997\n0.5 * 5.0 / 1e-05 = 249999.99999999997\n0.5 * 5.0 / 1e-05 = 249999.99999999997\n0.5 * 5.0 / 1e-05 = 249999.99999999997\n0.5 * 5.0 / 1e-05 = 249999.99999999997\n0.5 * 5.0 / 1e-05 = 249999.99999999997\n0.5 * 5.0 / 1e-05 = 249999.99999999997\n0.5 * 5.0 / 1e-05 = 249999.99999999997\n0.5 * 5.0 / 1e-05 = 249999.99999999997\n0.5 * 5.0 / 1e-05 = 249999.99999999997\n0.5 * 5.0 / 1e-05 = 249999.99999999997\n0.5 * 5.0 / 1e-05 = 249999.99999999997\n0.5 * 5.0 / 1e-05 = 249999.99999999997\n0.5 * 5.0 / 1e-05 = 249999.99999999997\n0.5 * 5.0 / 1e-05 = 249999.99999999997\n0.5 * 5.0 / 1e-05 = 249999.99999999997\n0.5 * 5.0 / 1e-05 = 249999.99999999997\n0.5 * 5.0 / 1e-05 = 249999.99999999997\n0.5 * 5.0 / 1e-05 = 249999.99999999997\n0.5 * 5.0 / 1e-05 = 249999.99999999997\n0.5 * 5.0 / 1e-05 = 249999.99999999997\n0.5 * 5.0 / 1e-05 = 249999.99999999997\n0.5 * 5.0 / 1e-05 = 249999.99999999997\n0.5 * 5.0 / 1e-05 = 249999.99999999997\n0.5 * 5.0 / 1e-05 = 249999.99999999997\n0.5 * 5.0 / 1e-05 = 249999.99999999997\n0.5 * 5.0 / 1e-05 = 249999.99999999997\n0.5 * 5.0 / 1e-05 = 249999.99999999997\n0.5 * 5.0 / 1e-05 = 249999.99999999997\n0.5 * 5.0 / 1e-05 = 249999.99999999997\n0.5 * 5.0 / 1e-05 = 249999.99999999997\n0.5 * 5.0 / 1e-05 = 249999.99999999997\n0.5 * 5.0 / 1e-05 = 249999.99999999997\n0.5 * 5.0 / 1e-05 = 249999.99999999997\n0.5 * 5.0 / 1e-05 = 249999.99999999997\n0.5 * 5.0 / 1e-05 = 249999.99999999997\n0.5 * 5.0 / 1e-05 = 249999.99999999997\n0.5 * 5.0 / 1e-05 = 249999.99999999997\n0.5 * 5.0 / 1e-05 = 249999.99999999997\n0.5 * 5.0 / 1e-05 = 249999.99999999997\n0.5 * 5.0 / 1e-05 = 249999.99999999997\n0.5 * 5.0 / 1e-05 = 249999.99999999997\n0.5 * 5.0 / 1e-05 = 249999.99999999997\n0.5 * 5.0 / 1e-05 = 249999.99999999997\n0.5 * 5.0 / 1e-05 = 249999.99999999997\n0.5 * 5.0 / 1e-05 = 249999.99999999997\n0.5 * 5.0 / 1e-05 = 249999.99999999997\n0.5 * 5.0 / 1e-05 = 249999.99999999997\n0.5 * 5.0 / 1e-05 = 249999.99999999997\n0.5 * 5.0 / 1e-05 = 249999.99999999997\n0.5 * 5.0 / 1e-05 = 249999.99999999997\n0.5 * 5.0 / 1e-05 = 249999.99999999997\n0.5 * 5.0 / 1e-05 = 249999.99999999997\n0.5 * 5.0 / 1e-05 = 249999.99999999997\n0.5 * 5.0 / 1e-05 = 249999.99999999997\n0.5 * 5.0 / 1e-05 = 249999.99999999997\n0.5 * 5.0 / 1e-05 = 249999.99999999997\n0.5 * 5.0 / 1e-05 = 249999.99999999997\n0.5 * 5.0 / 1e-05 = 249999.99999999997\n0.5 * 5.0 / 1e-05 = 249999.99999999997\n0.5 * 5.0 / 1e-05 = 249999.99999999997\n0.5 * 5.0 / 1e-05 = 249999.99999999997\n0.5 * 5.0 / 1e-05 = 249999.99999999997\n0.5 * 5.0 / 1e-05 = 249999.99999999997\n0.5 * 5.0 / 1e-05 = 249999.99999999997\nPrecisión transductiva: 0.8555555555555555\nPrecisión inductiva: 0.8\n"
     ]
    }
   ],
   "source": [
    "skf = model_selection.StratifiedKFoldSS(n_splits=10, random_state=0, shuffle=True)\n",
    "scores = []\n",
    "scores_ind = []\n",
    "for X_, y_, _, unlabel in skf.split(X_train,y_train):\n",
    "    st = wrapper.CoForest(n_estimators=7, threshold=0.75)\n",
    "    st.fit(X_,y_)\n",
    "    scores.append(st.score(X_train[unlabel], y_train[unlabel]))\n",
    "    scores_ind.append(st.score(X_test, y_test))\n",
    "print(\"Precisión transductiva:\",np.mean(scores))\n",
    "print(\"Precisión inductiva:\",np.mean(scores_ind))"
   ]
  },
  {
   "cell_type": "markdown",
   "metadata": {},
   "source": [
    "Prueba creando un dataset artificial a partir de otro"
   ]
  },
  {
   "cell_type": "code",
   "execution_count": 8,
   "metadata": {},
   "outputs": [
    {
     "output_type": "stream",
     "name": "stdout",
     "text": [
      "0.5 * 5.0 / 1e-05 = 249999.99999999997\n0.5 * 5.0 / 1e-05 = 249999.99999999997\n0.5 * 5.0 / 1e-05 = 249999.99999999997\n0.5 * 5.0 / 1e-05 = 249999.99999999997\n0.5 * 5.0 / 1e-05 = 249999.99999999997\n0.5 * 5.0 / 1e-05 = 249999.99999999997\n0.5 * 5.0 / 1e-05 = 249999.99999999997\nPrecisión transductiva: 0.7555555555555555\nPrecisión inductiva: 0.79\n"
     ]
    }
   ],
   "source": [
    "X_, y_, true_label = model_selection.artificial_ssl_dataset(X_train, y_train, label_rate=0.10, random_state=0)\n",
    "st = wrapper.CoForest(n_estimators=7, threshold=0.75)\n",
    "score = st.fit(X_,y_).score(X_[y_ == -1], true_label)\n",
    "score_ind = st.score(X_test, y_test)\n",
    "print(\"Precisión transductiva:\",score)\n",
    "print(\"Precisión inductiva:\",score_ind)"
   ]
  },
  {
   "cell_type": "code",
   "execution_count": 9,
   "metadata": {},
   "outputs": [
    {
     "output_type": "execute_result",
     "data": {
      "text/plain": [
       "((48, 4), (48,))"
      ]
     },
     "metadata": {},
     "execution_count": 9
    }
   ],
   "source": [
    "X_, y_, true_label = model_selection.artificial_ssl_dataset(X_train, y_train, label_rate=0.05, random_state=0)\n",
    "X_[y_==-1].shape, true_label.shape"
   ]
  },
  {
   "cell_type": "code",
   "execution_count": 10,
   "metadata": {},
   "outputs": [
    {
     "output_type": "stream",
     "name": "stdout",
     "text": [
      "0.5 * 2.0 / 1e-05 = 99999.99999999999\n0.5 * 2.0 / 1e-05 = 99999.99999999999\n0.5 * 2.0 / 1e-05 = 99999.99999999999\n0.5 * 2.0 / 1e-05 = 99999.99999999999\n0.5 * 2.0 / 1e-05 = 99999.99999999999\n0.5 * 2.0 / 1e-05 = 99999.99999999999\n0.5 * 2.0 / 1e-05 = 99999.99999999999\n"
     ]
    },
    {
     "output_type": "execute_result",
     "data": {
      "text/plain": [
       "<sslearn.wrapper._co.CoForest at 0x7f751af88c10>"
      ]
     },
     "metadata": {},
     "execution_count": 10
    }
   ],
   "source": [
    "st.fit(X_,y_)\n",
    "#.score(X_[y_ == -1], true_label)"
   ]
  },
  {
   "cell_type": "code",
   "execution_count": 11,
   "metadata": {},
   "outputs": [
    {
     "output_type": "error",
     "ename": "AttributeError",
     "evalue": "'CoForest' object has no attribute 'batch_size'",
     "traceback": [
      "\u001b[0;31m---------------------------------------------------------------------------\u001b[0m",
      "\u001b[0;31mAttributeError\u001b[0m                            Traceback (most recent call last)",
      "\u001b[0;32m<ipython-input-11-66ddad989c0d>\u001b[0m in \u001b[0;36m<module>\u001b[0;34m\u001b[0m\n\u001b[0;32m----> 1\u001b[0;31m \u001b[0mst\u001b[0m\u001b[0;34m.\u001b[0m\u001b[0mbatch_size\u001b[0m\u001b[0;34m\u001b[0m\u001b[0;34m\u001b[0m\u001b[0m\n\u001b[0m",
      "\u001b[0;31mAttributeError\u001b[0m: 'CoForest' object has no attribute 'batch_size'"
     ]
    }
   ],
   "source": [
    "st.batch_size"
   ]
  },
  {
   "cell_type": "code",
   "execution_count": null,
   "metadata": {},
   "outputs": [],
   "source": []
  }
 ],
 "metadata": {
  "kernelspec": {
   "display_name": "Python 3.7 (Doctorado)",
   "language": "python",
   "name": "phd"
  },
  "language_info": {
   "codemirror_mode": {
    "name": "ipython",
    "version": 3
   },
   "file_extension": ".py",
   "mimetype": "text/x-python",
   "name": "python",
   "nbconvert_exporter": "python",
   "pygments_lexer": "ipython3",
   "version": "3.7.9-final"
  }
 },
 "nbformat": 4,
 "nbformat_minor": 4
}