{
 "cells": [
  {
   "cell_type": "code",
   "execution_count": 1,
   "metadata": {},
   "outputs": [],
   "source": [
    "%matplotlib inline\n",
    "import pandas as pd\n",
    "import numpy as np\n",
    "import sslearn\n",
    "from sslearn import model_selection, wrapper\n",
    "from sklearn.tree import DecisionTreeClassifier\n",
    "from sklearn.ensemble import RandomForestClassifier\n",
    "from sklearn.model_selection import train_test_split"
   ]
  },
  {
   "cell_type": "code",
   "execution_count": 2,
   "metadata": {},
   "outputs": [],
   "source": [
    "import sklearn.datasets as data"
   ]
  },
  {
   "cell_type": "code",
   "execution_count": 3,
   "metadata": {},
   "outputs": [],
   "source": [
    "X, y = data.load_breast_cancer(return_X_y=True)"
   ]
  },
  {
   "cell_type": "code",
   "execution_count": 4,
   "metadata": {},
   "outputs": [],
   "source": [
    "X_train, X_test, y_train, y_test = train_test_split(X, y, train_size=float(1/3), random_state=0)"
   ]
  },
  {
   "cell_type": "code",
   "execution_count": 5,
   "metadata": {},
   "outputs": [
    {
     "data": {
      "text/plain": [
       "(189, 30)"
      ]
     },
     "execution_count": 5,
     "metadata": {},
     "output_type": "execute_result"
    }
   ],
   "source": [
    "X_train.shape"
   ]
  },
  {
   "cell_type": "markdown",
   "metadata": {},
   "source": [
    "Prueba de Validación cruzada"
   ]
  },
  {
   "cell_type": "code",
   "execution_count": 34,
   "metadata": {
    "scrolled": false
   },
   "outputs": [
    {
     "name": "stdout",
     "output_type": "stream",
     "text": [
      "Precisión transductiva: 0.8818369453044376\n",
      "Precisión inductiva: 0.8805263157894737\n"
     ]
    }
   ],
   "source": [
    "skf = model_selection.StratifiedKFoldSS(n_splits=10, random_state=0, shuffle=True)\n",
    "scores = []\n",
    "scores_ind = []\n",
    "for X_, y_, _, unlabel in skf.split(X_train,y_train):\n",
    "    st = wrapper.TriTraining(base_estimator=DecisionTreeClassifier(random_state=0), random_state=0)\n",
    "    st.fit(X_,y_)\n",
    "    scores.append(st.score(X_train[unlabel], y_train[unlabel]))\n",
    "    scores_ind.append(st.score(X_test, y_test))\n",
    "print(\"Precisión transductiva:\",np.mean(scores))\n",
    "print(\"Precisión inductiva:\",np.mean(scores_ind))"
   ]
  },
  {
   "cell_type": "markdown",
   "metadata": {},
   "source": [
    "Prueba creando un dataset artificial a partir de otro"
   ]
  },
  {
   "cell_type": "code",
   "execution_count": 32,
   "metadata": {},
   "outputs": [
    {
     "name": "stdout",
     "output_type": "stream",
     "text": [
      "Precisión transductiva: 0.8555555555555555\n",
      "Precisión inductiva: 0.8631578947368421\n"
     ]
    }
   ],
   "source": [
    "X_, y_, true_label = model_selection.artificial_ssl_dataset(X_train, y_train, label_rate=0.05, random_state=0)\n",
    "st = wrapper.Rasco(base_estimator=DecisionTreeClassifier(random_state=0), incremental=True, batch_size=None, random_state=0)\n",
    "score = st.fit(X_,y_).score(X_[y_ == -1], true_label)\n",
    "score_ind = st.score(X_test, y_test)\n",
    "print(\"Precisión transductiva:\",score)\n",
    "print(\"Precisión inductiva:\",score_ind)"
   ]
  },
  {
   "cell_type": "code",
   "execution_count": 13,
   "metadata": {},
   "outputs": [],
   "source": [
    "st.batch_size"
   ]
  },
  {
   "cell_type": "code",
   "execution_count": null,
   "metadata": {},
   "outputs": [],
   "source": []
  }
 ],
 "metadata": {
  "kernelspec": {
   "display_name": "Python 3.7 (Doctorado)",
   "language": "python",
   "name": "phd"
  },
  "language_info": {
   "codemirror_mode": {
    "name": "ipython",
    "version": 3
   },
   "file_extension": ".py",
   "mimetype": "text/x-python",
   "name": "python",
   "nbconvert_exporter": "python",
   "pygments_lexer": "ipython3",
   "version": "3.7.9"
  }
 },
 "nbformat": 4,
 "nbformat_minor": 4
}
